{
  "nbformat": 4,
  "nbformat_minor": 0,
  "metadata": {
    "colab": {
      "provenance": [],
      "authorship_tag": "ABX9TyOS3rUlutx7sSa/Ev4Qajhs",
      "include_colab_link": true
    },
    "kernelspec": {
      "name": "python3",
      "display_name": "Python 3"
    },
    "language_info": {
      "name": "python"
    }
  },
  "cells": [
    {
      "cell_type": "markdown",
      "metadata": {
        "id": "view-in-github",
        "colab_type": "text"
      },
      "source": [
        "<a href=\"https://colab.research.google.com/github/ganesh-3000/GM2023502003/blob/main/Chatbot(LLM).ipynb\" target=\"_parent\"><img src=\"https://colab.research.google.com/assets/colab-badge.svg\" alt=\"Open In Colab\"/></a>"
      ]
    },
    {
      "cell_type": "code",
      "execution_count": null,
      "metadata": {
        "colab": {
          "base_uri": "https://localhost:8080/",
          "height": 715
        },
        "id": "w8Ug8spyE6fs",
        "outputId": "19235819-d80e-4983-bd1b-d0c36005bbec"
      },
      "outputs": [
        {
          "output_type": "stream",
          "name": "stdout",
          "text": [
            "\u001b[2K   \u001b[90m━━━━━━━━━━━━━━━━━━━━━━━━━━━━━━━━━━━━━━━━\u001b[0m \u001b[32m54.2/54.2 MB\u001b[0m \u001b[31m12.6 MB/s\u001b[0m eta \u001b[36m0:00:00\u001b[0m\n",
            "\u001b[2K   \u001b[90m━━━━━━━━━━━━━━━━━━━━━━━━━━━━━━━━━━━━━━━━\u001b[0m \u001b[32m323.1/323.1 kB\u001b[0m \u001b[31m13.4 MB/s\u001b[0m eta \u001b[36m0:00:00\u001b[0m\n",
            "\u001b[2K   \u001b[90m━━━━━━━━━━━━━━━━━━━━━━━━━━━━━━━━━━━━━━━━\u001b[0m \u001b[32m95.2/95.2 kB\u001b[0m \u001b[31m5.8 MB/s\u001b[0m eta \u001b[36m0:00:00\u001b[0m\n",
            "\u001b[2K   \u001b[90m━━━━━━━━━━━━━━━━━━━━━━━━━━━━━━━━━━━━━━━━\u001b[0m \u001b[32m11.5/11.5 MB\u001b[0m \u001b[31m72.8 MB/s\u001b[0m eta \u001b[36m0:00:00\u001b[0m\n",
            "\u001b[2K   \u001b[90m━━━━━━━━━━━━━━━━━━━━━━━━━━━━━━━━━━━━━━━━\u001b[0m \u001b[32m72.0/72.0 kB\u001b[0m \u001b[31m4.4 MB/s\u001b[0m eta \u001b[36m0:00:00\u001b[0m\n",
            "\u001b[2K   \u001b[90m━━━━━━━━━━━━━━━━━━━━━━━━━━━━━━━━━━━━━━━━\u001b[0m \u001b[32m62.5/62.5 kB\u001b[0m \u001b[31m3.4 MB/s\u001b[0m eta \u001b[36m0:00:00\u001b[0m\n",
            "\u001b[?25hColab notebook detected. To show errors in colab notebook, set debug=True in launch()\n",
            "* Running on public URL: https://4903dfab59ab12fed6.gradio.live\n",
            "\n",
            "This share link expires in 1 week. For free permanent hosting and GPU upgrades, run `gradio deploy` from the terminal in the working directory to deploy to Hugging Face Spaces (https://huggingface.co/spaces)\n"
          ]
        },
        {
          "output_type": "display_data",
          "data": {
            "text/plain": [
              "<IPython.core.display.HTML object>"
            ],
            "text/html": [
              "<div><iframe src=\"https://4903dfab59ab12fed6.gradio.live\" width=\"100%\" height=\"500\" allow=\"autoplay; camera; microphone; clipboard-read; clipboard-write;\" frameborder=\"0\" allowfullscreen></iframe></div>"
            ]
          },
          "metadata": {}
        },
        {
          "output_type": "execute_result",
          "data": {
            "text/plain": []
          },
          "metadata": {},
          "execution_count": 1
        }
      ],
      "source": [
        "# ✅ Install Gradio\n",
        "!pip install gradio -q\n",
        "\n",
        "# ✅ Import libraries\n",
        "import gradio as gr\n",
        "import requests\n",
        "import html\n",
        "import random\n",
        "\n",
        "# ✅ Fetch 20 trivia questions from Open Trivia DB\n",
        "def get_trivia_questions():\n",
        "    url = \"https://opentdb.com/api.php?amount=20&type=multiple\"\n",
        "    data = requests.get(url).json()\n",
        "    questions = []\n",
        "    for item in data[\"results\"]:\n",
        "        questions.append({\n",
        "            \"question\": html.unescape(item[\"question\"]),\n",
        "            \"answer\": html.unescape(item[\"correct_answer\"])\n",
        "        })\n",
        "    return questions\n",
        "\n",
        "# ✅ Initialize game state\n",
        "questions = get_trivia_questions()\n",
        "game_state = {\"index\": 0, \"score\": 0}\n",
        "\n",
        "# ✅ Trivia bot logic\n",
        "def trivia_bot(user_input):\n",
        "    # Check user's previous answer\n",
        "    if game_state[\"index\"] > 0:\n",
        "        correct_answer = questions[game_state[\"index\"] - 1][\"answer\"].strip().lower()\n",
        "        if user_input.strip().lower() == correct_answer:\n",
        "            game_state[\"score\"] += 1\n",
        "            response = \"✅ Correct!\"\n",
        "        else:\n",
        "            response = f\"❌ Wrong. The correct answer was: {correct_answer}\"\n",
        "    else:\n",
        "        response = \"🎮 Let's start the trivia game!\"\n",
        "\n",
        "    # End game if out of questions\n",
        "    if game_state[\"index\"] >= len(questions):\n",
        "        final = game_state[\"score\"]\n",
        "        game_state[\"index\"] = 0\n",
        "        game_state[\"score\"] = 0\n",
        "        return response + f\"\\n\\n🏁 Game Over! Your score: {final}/{len(questions)}\\nType anything to play again.\"\n",
        "\n",
        "    # Ask next question\n",
        "    q = questions[game_state[\"index\"]][\"question\"]\n",
        "    game_state[\"index\"] += 1\n",
        "    return response + f\"\\n\\n🧠 Question {game_state['index']}: {q}\"\n",
        "\n",
        "# ✅ Gradio UI\n",
        "gr.Interface(\n",
        "    fn=trivia_bot,\n",
        "    inputs=gr.Textbox(label=\"Your Answer\"),\n",
        "    outputs=\"text\",\n",
        "    title=\"🎉 Trivia Chatbot\",\n",
        "    description=\"Answer trivia questions. Your score is tracked. Type anything to begin!\",\n",
        ").launch(share=True)\n"
      ]
    }
  ]
}