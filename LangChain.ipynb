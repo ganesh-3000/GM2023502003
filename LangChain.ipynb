{
  "nbformat": 4,
  "nbformat_minor": 0,
  "metadata": {
    "colab": {
      "provenance": [],
      "gpuType": "T4",
      "authorship_tag": "ABX9TyNyXpZLgXCLAlb7imyyNvg1",
      "include_colab_link": true
    },
    "kernelspec": {
      "name": "python3",
      "display_name": "Python 3"
    },
    "language_info": {
      "name": "python"
    },
    "accelerator": "GPU"
  },
  "cells": [
    {
      "cell_type": "markdown",
      "metadata": {
        "id": "view-in-github",
        "colab_type": "text"
      },
      "source": [
        "<a href=\"https://colab.research.google.com/github/ganesh-3000/GM2023502003/blob/main/LangChain.ipynb\" target=\"_parent\"><img src=\"https://colab.research.google.com/assets/colab-badge.svg\" alt=\"Open In Colab\"/></a>"
      ]
    },
    {
      "cell_type": "code",
      "execution_count": null,
      "metadata": {
        "colab": {
          "base_uri": "https://localhost:8080/",
          "height": 646
        },
        "id": "CcCAFk5YGfc6",
        "outputId": "8887466f-a687-4aba-b07e-52d12324b2cf"
      },
      "outputs": [
        {
          "output_type": "stream",
          "name": "stdout",
          "text": [
            "It looks like you are running Gradio on a hosted a Jupyter notebook. For the Gradio app to work, sharing must be enabled. Automatically setting `share=True` (you can turn this off by setting `share=False` in `launch()` explicitly).\n",
            "\n",
            "Colab notebook detected. To show errors in colab notebook, set debug=True in launch()\n",
            "* Running on public URL: https://76762417621e8bfbab.gradio.live\n",
            "\n",
            "This share link expires in 1 week. For free permanent hosting and GPU upgrades, run `gradio deploy` from the terminal in the working directory to deploy to Hugging Face Spaces (https://huggingface.co/spaces)\n"
          ]
        },
        {
          "output_type": "display_data",
          "data": {
            "text/plain": [
              "<IPython.core.display.HTML object>"
            ],
            "text/html": [
              "<div><iframe src=\"https://76762417621e8bfbab.gradio.live\" width=\"100%\" height=\"500\" allow=\"autoplay; camera; microphone; clipboard-read; clipboard-write;\" frameborder=\"0\" allowfullscreen></iframe></div>"
            ]
          },
          "metadata": {}
        },
        {
          "output_type": "execute_result",
          "data": {
            "text/plain": []
          },
          "metadata": {},
          "execution_count": 6
        }
      ],
      "source": [
        "import os\n",
        "import gradio as gr\n",
        "from langchain.llms import OpenAI\n",
        "\n",
        "def summarize_with_key(api_key, text):\n",
        "    os.environ[\"OPENAI_API_KEY\"] = api_key\n",
        "    llm = OpenAI(temperature=0.3)\n",
        "    # Summarize logic here...\n",
        "    return \"Summary (mock): \" + text[:100]  # placeholder\n",
        "\n",
        "iface = gr.Interface(\n",
        "    fn=summarize_with_key,\n",
        "    inputs=[gr.Textbox(label=\"OpenAI API Key\"), gr.Textbox(label=\"Text to Summarize\", lines=10)],\n",
        "    outputs=\"text\",\n",
        "    title=\"Summarizer with User API Key\"\n",
        ")\n",
        "\n",
        "iface.launch()\n"
      ]
    }
  ]
}