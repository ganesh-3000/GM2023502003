{
  "nbformat": 4,
  "nbformat_minor": 0,
  "metadata": {
    "colab": {
      "provenance": [],
      "gpuType": "T4",
      "authorship_tag": "ABX9TyPP+y3UJaO1E55p6Kpc7pn4",
      "include_colab_link": true
    },
    "kernelspec": {
      "name": "python3",
      "display_name": "Python 3"
    },
    "language_info": {
      "name": "python"
    },
    "accelerator": "GPU"
  },
  "cells": [
    {
      "cell_type": "markdown",
      "metadata": {
        "id": "view-in-github",
        "colab_type": "text"
      },
      "source": [
        "<a href=\"https://colab.research.google.com/github/ganesh-3000/GM2023502003/blob/main/Spam_Detection.ipynb\" target=\"_parent\"><img src=\"https://colab.research.google.com/assets/colab-badge.svg\" alt=\"Open In Colab\"/></a>"
      ]
    },
    {
      "cell_type": "code",
      "execution_count": 3,
      "metadata": {
        "colab": {
          "base_uri": "https://localhost:8080/"
        },
        "id": "9QzUgMZnBWNm",
        "outputId": "1b2dcdfe-935f-454a-9e3e-ffe756881f2d"
      },
      "outputs": [
        {
          "name": "stdout",
          "output_type": "stream",
          "text": [
            "📩 Enter the email/message to check for SPAM:\n",
            "Subject: 🎁 You've Been Selected for a Special Reward!  Dear user,  Congratulations! You've been selected for an exclusive reward valued at $1,000. All you need to do is click the link below and complete a short survey.  👉 Claim your prize now: http://bit.ly/fake-link  Hurry! This offer expires in 24 hours.  Sincerely,   The Rewards Team\n"
          ]
        },
        {
          "output_type": "stream",
          "name": "stderr",
          "text": [
            "Asking to truncate to max_length but no maximum length is provided and the model has no predefined maximum length. Default to no truncation.\n"
          ]
        },
        {
          "output_type": "stream",
          "name": "stdout",
          "text": [
            "\n",
            "🔎 Result:\n",
            "=> This message is classified as: **SPAM**\n",
            "   📊 Confidence → HAM: 46.26%, SPAM: 53.74%\n"
          ]
        }
      ],
      "source": [
        "# 📬 Spam Detection using Hugging Face (No API key)\n",
        "# ✅ Clean for GitHub and Colab\n",
        "\n",
        "!pip install transformers --quiet\n",
        "\n",
        "from transformers import AutoTokenizer, AutoModelForSequenceClassification\n",
        "import torch\n",
        "import torch.nn.functional as F\n",
        "\n",
        "# Load model + tokenizer (fine-tuned for spam detection)\n",
        "model_name = \"mrm8488/bert-tiny-finetuned-sms-spam-detection\"\n",
        "tokenizer = AutoTokenizer.from_pretrained(model_name)\n",
        "model = AutoModelForSequenceClassification.from_pretrained(model_name)\n",
        "\n",
        "# 📝 Ask user for input message\n",
        "user_input = input(\"📩 Enter the email/message to check for SPAM:\\n\")\n",
        "\n",
        "# 🔍 Spam Classification\n",
        "def classify(text):\n",
        "    inputs = tokenizer(text, return_tensors=\"pt\", truncation=True, padding=True)\n",
        "    with torch.no_grad():\n",
        "        logits = model(**inputs).logits\n",
        "        probs = F.softmax(logits, dim=1)\n",
        "        pred = torch.argmax(probs, dim=1).item()\n",
        "        label = \"SPAM\" if pred == 1 else \"HAM\"\n",
        "        return label, probs[0].tolist()\n",
        "\n",
        "# 🧾 Run classification\n",
        "label, confidence = classify(user_input)\n",
        "spam_conf = round(confidence[1] * 100, 2)\n",
        "ham_conf = round(confidence[0] * 100, 2)\n",
        "\n",
        "# ✅ Final Output\n",
        "print(\"\\n🔎 Result:\")\n",
        "print(f\"=> This message is classified as: **{label}**\")\n",
        "print(f\"   📊 Confidence → HAM: {ham_conf}%, SPAM: {spam_conf}%\")\n"
      ]
    }
  ]
}